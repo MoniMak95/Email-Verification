{
 "cells": [
  {
   "cell_type": "code",
   "execution_count": 10,
   "id": "216dd356",
   "metadata": {},
   "outputs": [
    {
     "name": "stdout",
     "output_type": "stream",
     "text": [
      "enter the email: monika.makwana09@gmail.com\n",
      "Right email\n"
     ]
    }
   ],
   "source": [
    "import re  #RegEx\n",
    "Email_conditions=\"^[a-z]+[\\._]?[a-z 0-9]+[@]\\w+[.]\\w{2,3}$\"  \n",
    "# condition 1: ^[a-z] means ^ used for \"start with 1st letter\" of email which should be alphabate and then gave range  \n",
    "# \"+\" sign stands for joining multiple conditions\n",
    "# condition 2: . and _ at a time one. so for that \\ sign is used\n",
    "# \\w is used for finding special character like @ and .\n",
    "# ? represent true and false condition.. if . is more than 1 than it will perform rest of the conditions\n",
    "user_email=input(\"enter the email: \")\n",
    "\n",
    "\n",
    "if re.search(Email_conditions,user_email):\n",
    "    print(\"Right email\")\n",
    "else:\n",
    "    print(\"wrong email\")"
   ]
  },
  {
   "cell_type": "code",
   "execution_count": 11,
   "id": "1070eb84",
   "metadata": {},
   "outputs": [
    {
     "name": "stdout",
     "output_type": "stream",
     "text": [
      "enter the email: mo.ni.ka@gmail.comm\n",
      "wrong email\n"
     ]
    }
   ],
   "source": [
    "import re \n",
    "Email_conditions=\"^[a-z]+[\\._]?[a-z 0-9]+[@]\\w+[.]\\w{2,3}$\"  \n",
    "user_email=input(\"enter the email: \")\n",
    "\n",
    "if re.search(Email_conditions,user_email):\n",
    "    print(\"Right email\")\n",
    "else:\n",
    "    print(\"wrong email\")"
   ]
  },
  {
   "cell_type": "code",
   "execution_count": 14,
   "id": "15b9e2db",
   "metadata": {},
   "outputs": [
    {
     "name": "stdout",
     "output_type": "stream",
     "text": [
      "enter the email: moni_mak_00@gmail.com\n",
      "wrong email\n"
     ]
    }
   ],
   "source": [
    "import re \n",
    "Email_conditions=\"^[a-z]+[\\._]?[a-z 0-9]+[@]\\w+[.]\\w{2,3}$\"  \n",
    "user_email=input(\"enter the email: \")\n",
    "\n",
    "if re.search(Email_conditions,user_email):\n",
    "    print(\"Right email\")\n",
    "else:\n",
    "    print(\"wrong email\")"
   ]
  },
  {
   "cell_type": "code",
   "execution_count": null,
   "id": "803d6d5c",
   "metadata": {},
   "outputs": [],
   "source": []
  }
 ],
 "metadata": {
  "kernelspec": {
   "display_name": "Python 3",
   "language": "python",
   "name": "python3"
  },
  "language_info": {
   "codemirror_mode": {
    "name": "ipython",
    "version": 3
   },
   "file_extension": ".py",
   "mimetype": "text/x-python",
   "name": "python",
   "nbconvert_exporter": "python",
   "pygments_lexer": "ipython3",
   "version": "3.8.8"
  }
 },
 "nbformat": 4,
 "nbformat_minor": 5
}
